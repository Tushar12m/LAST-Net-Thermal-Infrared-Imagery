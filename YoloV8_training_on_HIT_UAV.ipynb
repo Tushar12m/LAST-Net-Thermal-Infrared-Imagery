{
  "metadata": {
    "kernelspec": {
      "language": "python",
      "display_name": "Python 3",
      "name": "python3"
    },
    "language_info": {
      "pygments_lexer": "ipython3",
      "nbconvert_exporter": "python",
      "version": "3.6.4",
      "file_extension": ".py",
      "codemirror_mode": {
        "name": "ipython",
        "version": 3
      },
      "name": "python",
      "mimetype": "text/x-python"
    },
    "colab": {
      "name": "YoloV8 training on HIT-UAV",
      "provenance": []
    }
  },
  "nbformat_minor": 0,
  "nbformat": 4,
  "cells": [
    {
      "source": [
        "# IMPORTANT: RUN THIS CELL IN ORDER TO IMPORT YOUR KAGGLE DATA SOURCES,\n",
        "# THEN FEEL FREE TO DELETE THIS CELL.\n",
        "# NOTE: THIS NOTEBOOK ENVIRONMENT DIFFERS FROM KAGGLE'S PYTHON\n",
        "# ENVIRONMENT SO THERE MAY BE MISSING LIBRARIES USED BY YOUR\n",
        "# NOTEBOOK.\n",
        "import kagglehub\n",
        "pandrii000_hituav_a_highaltitude_infrared_thermal_dataset_path = kagglehub.dataset_download('pandrii000/hituav-a-highaltitude-infrared-thermal-dataset')\n",
        "\n",
        "print('Data source import complete.')\n"
      ],
      "metadata": {
        "id": "rpvxw6okboNb"
      },
      "cell_type": "code",
      "outputs": [],
      "execution_count": null
    },
    {
      "cell_type": "code",
      "source": [
        "!pip install -q ultralytics imutils"
      ],
      "metadata": {
        "_uuid": "8f2839f25d086af736a60e9eeb907d3b93b6e0e5",
        "_cell_guid": "b1076dfc-b9ad-4769-8c92-a6c4dae69d19",
        "trusted": true,
        "id": "TAM57WJaboNh"
      },
      "execution_count": null,
      "outputs": []
    },
    {
      "cell_type": "code",
      "source": [
        "from tqdm.auto import tqdm\n",
        "\n",
        "import os\n",
        "import requests\n",
        "import zipfile\n",
        "import cv2\n",
        "import math\n",
        "import matplotlib.pyplot as plt\n",
        "import glob\n",
        "import numpy as np\n",
        "import random\n",
        "\n",
        "from PIL import Image"
      ],
      "metadata": {
        "execution": {
          "iopub.status.busy": "2023-06-07T15:57:15.283717Z",
          "iopub.execute_input": "2023-06-07T15:57:15.284092Z",
          "iopub.status.idle": "2023-06-07T15:57:15.292025Z",
          "shell.execute_reply.started": "2023-06-07T15:57:15.284063Z",
          "shell.execute_reply": "2023-06-07T15:57:15.290693Z"
        },
        "trusted": true,
        "id": "aTF8ulD7boNj"
      },
      "execution_count": null,
      "outputs": []
    },
    {
      "cell_type": "code",
      "source": [],
      "metadata": {
        "id": "uC5jphBubqLP"
      },
      "execution_count": null,
      "outputs": []
    },
    {
      "cell_type": "markdown",
      "source": [
        "## Visualize dataset"
      ],
      "metadata": {
        "id": "dKE048iOboNl"
      }
    },
    {
      "cell_type": "code",
      "source": [
        "ROOT_DIR = '/kaggle/input/hituav-a-highaltitude-infrared-thermal-dataset/hit-uav'\n",
        "train_imgs_dir = 'images/train'\n",
        "train_labels_dir = 'labels/train'\n",
        "val_imgs_dir = 'images/val'\n",
        "val_labels_dir = 'labels/val'\n",
        "test_imgs_dir = 'images/test'\n",
        "test_labels_dir = 'labels/test'\n",
        "classes = ['Person', 'Car', 'Bicycle', 'OtherVechicle', 'DontCare']\n",
        "colors = np.random.uniform(0, 255, size=(len(classes), 3))"
      ],
      "metadata": {
        "execution": {
          "iopub.status.busy": "2023-06-07T14:46:18.581997Z",
          "iopub.execute_input": "2023-06-07T14:46:18.582687Z",
          "iopub.status.idle": "2023-06-07T14:46:18.589784Z",
          "shell.execute_reply.started": "2023-06-07T14:46:18.582642Z",
          "shell.execute_reply": "2023-06-07T14:46:18.588529Z"
        },
        "trusted": true,
        "id": "kzcsPKyFboNo"
      },
      "execution_count": null,
      "outputs": []
    },
    {
      "cell_type": "code",
      "source": [
        "# Function to convert bounding boxes in YOLO format to xmin, ymin, xmax, ymax.\n",
        "def yolo2bbox(bboxes):\n",
        "    xmin, ymin = bboxes[0]-bboxes[2]/2, bboxes[1]-bboxes[3]/2\n",
        "    xmax, ymax = bboxes[0]+bboxes[2]/2, bboxes[1]+bboxes[3]/2\n",
        "    return xmin, ymin, xmax, ymax"
      ],
      "metadata": {
        "execution": {
          "iopub.status.busy": "2023-06-07T14:46:19.194624Z",
          "iopub.execute_input": "2023-06-07T14:46:19.194995Z",
          "iopub.status.idle": "2023-06-07T14:46:19.201154Z",
          "shell.execute_reply.started": "2023-06-07T14:46:19.194965Z",
          "shell.execute_reply": "2023-06-07T14:46:19.199904Z"
        },
        "trusted": true,
        "id": "g7dtB4PUboNp"
      },
      "execution_count": null,
      "outputs": []
    },
    {
      "cell_type": "code",
      "source": [
        "def plot_box(image, bboxes, labels, classes=classes, colors=colors, pos='above'):\n",
        "    # Need the image height and width to denormalize\n",
        "    # the bounding box coordinates\n",
        "    height, width, _ = image.shape\n",
        "    lw = max(round(sum(image.shape) / 2 * 0.003), 2)  # Line width.\n",
        "    tf = max(lw - 1, 1) # Font thickness.\n",
        "    for box_num, box in enumerate(bboxes):\n",
        "        x1, y1, x2, y2 = yolo2bbox(box)\n",
        "        # denormalize the coordinates\n",
        "        xmin = int(x1*width)\n",
        "        ymin = int(y1*height)\n",
        "        xmax = int(x2*width)\n",
        "        ymax = int(y2*height)\n",
        "\n",
        "        p1, p2 = (int(xmin), int(ymin)), (int(xmax), int(ymax))\n",
        "\n",
        "        class_name = classes[int(labels[box_num])]\n",
        "\n",
        "        color=colors[classes.index(class_name)]\n",
        "\n",
        "        cv2.rectangle(\n",
        "            image,\n",
        "            p1, p2,\n",
        "            color=color,\n",
        "            thickness=lw,\n",
        "            lineType=cv2.LINE_AA\n",
        "        )\n",
        "\n",
        "        # For filled rectangle.\n",
        "        w, h = cv2.getTextSize(\n",
        "            class_name,\n",
        "            0,\n",
        "            fontScale=lw / 3,\n",
        "            thickness=tf\n",
        "        )[0]\n",
        "\n",
        "        outside = p1[1] - h >= 3\n",
        "\n",
        "        if pos == 'above':\n",
        "            p2 = p1[0] + w, p1[1] - h - 3 if outside else p1[1] + h + 3\n",
        "            cv2.rectangle(\n",
        "                image,\n",
        "                p1, p2,\n",
        "                color=color,\n",
        "                thickness=-1,\n",
        "                lineType=cv2.LINE_AA\n",
        "            )\n",
        "            cv2.putText(\n",
        "                image,\n",
        "                class_name,\n",
        "                (p1[0], p1[1] - 5 if outside else p1[1] + h + 2),\n",
        "                cv2.FONT_HERSHEY_SIMPLEX,\n",
        "                fontScale=lw/3.5,\n",
        "                color=(255, 255, 255),\n",
        "                thickness=tf,\n",
        "                lineType=cv2.LINE_AA\n",
        "            )\n",
        "        else:\n",
        "            new_p2 = p1[0] + w, p2[1] + h + 3 if outside else p2[1] - h - 3\n",
        "            cv2.rectangle(\n",
        "                image,\n",
        "                (p1[0], p2[1]), new_p2,\n",
        "                color=color,\n",
        "                thickness=-1,\n",
        "                lineType=cv2.LINE_AA\n",
        "            )\n",
        "            cv2.putText(\n",
        "                image,\n",
        "                class_name,\n",
        "                (p1[0], p2[1] + h + 2 if outside else p2[1]),\n",
        "                cv2.FONT_HERSHEY_SIMPLEX,\n",
        "                fontScale=lw/3,\n",
        "                color=(255, 255, 255),\n",
        "                thickness=tf,\n",
        "                lineType=cv2.LINE_AA\n",
        "            )\n",
        "    return image"
      ],
      "metadata": {
        "execution": {
          "iopub.status.busy": "2023-06-07T14:52:06.19954Z",
          "iopub.execute_input": "2023-06-07T14:52:06.199912Z",
          "iopub.status.idle": "2023-06-07T14:52:06.215685Z",
          "shell.execute_reply.started": "2023-06-07T14:52:06.199883Z",
          "shell.execute_reply": "2023-06-07T14:52:06.214655Z"
        },
        "trusted": true,
        "id": "lHi_yOUCboNq"
      },
      "execution_count": null,
      "outputs": []
    },
    {
      "cell_type": "code",
      "source": [
        "# Function to plot images with the bounding boxes.\n",
        "def plot(image_path, label_path, num_samples, classes=classes, colors=colors, pos='above'):\n",
        "    all_training_images = glob.glob(image_path+'/*')\n",
        "    all_training_labels = glob.glob(label_path+'/*')\n",
        "    all_training_images.sort()\n",
        "    all_training_labels.sort()\n",
        "\n",
        "    temp = list(zip(all_training_images, all_training_labels))\n",
        "    random.shuffle(temp)\n",
        "    all_training_images, all_training_labels = zip(*temp)\n",
        "    all_training_images, all_training_labels = list(all_training_images), list(all_training_labels)\n",
        "\n",
        "    num_images = len(all_training_images)\n",
        "\n",
        "    if num_samples == -1:\n",
        "        num_samples = num_images\n",
        "\n",
        "    num_cols = 2\n",
        "    num_rows = int(math.ceil(num_samples / num_cols))\n",
        "\n",
        "    plt.figure(figsize=(10 * num_cols, 6 * num_rows))\n",
        "    for i in range(num_samples):\n",
        "        image_name = all_training_images[i].split(os.path.sep)[-1]\n",
        "        image = cv2.imread(all_training_images[i])\n",
        "        with open(all_training_labels[i], 'r') as f:\n",
        "            bboxes = []\n",
        "            labels = []\n",
        "            label_lines = f.readlines()\n",
        "            for label_line in label_lines:\n",
        "                label, x_c, y_c, w, h = label_line.split(' ')\n",
        "                x_c = float(x_c)\n",
        "                y_c = float(y_c)\n",
        "                w = float(w)\n",
        "                h = float(h)\n",
        "                bboxes.append([x_c, y_c, w, h])\n",
        "                labels.append(label)\n",
        "        result_image = plot_box(image, bboxes, labels, classes, colors, pos)\n",
        "        plt.subplot(num_rows, num_cols, i+1) # Visualize 2x2 grid of images.\n",
        "        plt.imshow(image[:, :, ::-1])\n",
        "        plt.axis('off')\n",
        "    plt.tight_layout()\n",
        "    plt.show()"
      ],
      "metadata": {
        "execution": {
          "iopub.status.busy": "2023-06-07T14:52:06.574189Z",
          "iopub.execute_input": "2023-06-07T14:52:06.57479Z",
          "iopub.status.idle": "2023-06-07T14:52:06.588036Z",
          "shell.execute_reply.started": "2023-06-07T14:52:06.574757Z",
          "shell.execute_reply": "2023-06-07T14:52:06.58694Z"
        },
        "trusted": true,
        "id": "O0ZNFnlfboNt"
      },
      "execution_count": null,
      "outputs": []
    },
    {
      "cell_type": "code",
      "source": [
        "# Visualize a few training images.\n",
        "plot(\n",
        "    image_path=os.path.join(ROOT_DIR, train_imgs_dir),\n",
        "    label_path=os.path.join(ROOT_DIR, train_labels_dir),\n",
        "    num_samples=8\n",
        ")"
      ],
      "metadata": {
        "execution": {
          "iopub.status.busy": "2023-06-07T14:52:23.703215Z",
          "iopub.execute_input": "2023-06-07T14:52:23.704065Z",
          "iopub.status.idle": "2023-06-07T14:52:25.906075Z",
          "shell.execute_reply.started": "2023-06-07T14:52:23.704022Z",
          "shell.execute_reply": "2023-06-07T14:52:25.905245Z"
        },
        "trusted": true,
        "id": "iaaWv4uJboNv"
      },
      "execution_count": null,
      "outputs": []
    },
    {
      "cell_type": "markdown",
      "source": [
        "# Prepare dataset"
      ],
      "metadata": {
        "id": "OAGzr2YLboNy"
      }
    },
    {
      "cell_type": "code",
      "source": [
        "%%writefile dataset.yaml\n",
        "\n",
        "path: /kaggle/input/hituav-a-highaltitude-infrared-thermal-dataset/hit-uav\n",
        "train: images/train\n",
        "val: images/val\n",
        "test: images/test\n",
        "names:\n",
        "  0: Person\n",
        "  1: Car\n",
        "  2: Bicycle\n",
        "  3: OtherVehicle\n",
        "  4: DontCare\n",
        "nc: 5"
      ],
      "metadata": {
        "execution": {
          "iopub.status.busy": "2023-06-07T14:52:26.119642Z",
          "iopub.execute_input": "2023-06-07T14:52:26.120099Z",
          "iopub.status.idle": "2023-06-07T14:52:26.127198Z",
          "shell.execute_reply.started": "2023-06-07T14:52:26.120063Z",
          "shell.execute_reply": "2023-06-07T14:52:26.126199Z"
        },
        "trusted": true,
        "id": "Duie0vdXboNz"
      },
      "execution_count": null,
      "outputs": []
    },
    {
      "cell_type": "markdown",
      "source": [
        "# Training"
      ],
      "metadata": {
        "id": "LR17l5RJboN0"
      }
    },
    {
      "cell_type": "markdown",
      "source": [
        "## YoloV8m"
      ],
      "metadata": {
        "id": "U3u1lH8SboN1"
      }
    },
    {
      "cell_type": "code",
      "source": [
        "# Disable wandb\n",
        "import os\n",
        "os.environ['WANDB_DISABLED'] = 'true'"
      ],
      "metadata": {
        "execution": {
          "iopub.status.busy": "2023-06-07T14:52:31.358037Z",
          "iopub.execute_input": "2023-06-07T14:52:31.358735Z",
          "iopub.status.idle": "2023-06-07T14:52:31.363302Z",
          "shell.execute_reply.started": "2023-06-07T14:52:31.3587Z",
          "shell.execute_reply": "2023-06-07T14:52:31.362395Z"
        },
        "trusted": true,
        "id": "JAmwzF3wboN1"
      },
      "execution_count": null,
      "outputs": []
    },
    {
      "cell_type": "code",
      "source": [
        "from ultralytics import YOLO\n",
        "# Load a model\n",
        "# model = YOLO(\"yolov8s.yaml\")  # build a new model from scratch\n",
        "model = YOLO(\"yolov8m.pt\")  # load a pretrained model (recommended for training)"
      ],
      "metadata": {
        "execution": {
          "iopub.status.busy": "2023-06-07T14:53:33.893061Z",
          "iopub.execute_input": "2023-06-07T14:53:33.893477Z",
          "iopub.status.idle": "2023-06-07T14:53:34.027868Z",
          "shell.execute_reply.started": "2023-06-07T14:53:33.893441Z",
          "shell.execute_reply": "2023-06-07T14:53:34.026861Z"
        },
        "trusted": true,
        "id": "FqijQHv6boN2"
      },
      "execution_count": null,
      "outputs": []
    },
    {
      "cell_type": "code",
      "source": [
        "# Use the model\n",
        "results = model.train(\n",
        "   data='dataset.yaml',\n",
        "   imgsz=512,\n",
        "   epochs=50,\n",
        "   batch=16,\n",
        "   name='yolov8m_v8_50e'\n",
        ")  # train the model"
      ],
      "metadata": {
        "scrolled": true,
        "execution": {
          "iopub.status.busy": "2023-06-07T14:53:35.297015Z",
          "iopub.execute_input": "2023-06-07T14:53:35.297412Z",
          "iopub.status.idle": "2023-06-07T15:56:48.825874Z",
          "shell.execute_reply.started": "2023-06-07T14:53:35.297379Z",
          "shell.execute_reply": "2023-06-07T15:56:48.824529Z"
        },
        "trusted": true,
        "id": "n8lBdMKsboN2"
      },
      "execution_count": null,
      "outputs": []
    },
    {
      "cell_type": "markdown",
      "source": [
        "## Visualize performance"
      ],
      "metadata": {
        "id": "oy75d5W5boN2"
      }
    },
    {
      "cell_type": "code",
      "source": [
        "from imutils import paths\n",
        "\n",
        "log_dir = \"runs/detect/yolov8m_v8_50e\"\n",
        "for image_path in sorted(paths.list_images(log_dir)):\n",
        "    image = Image.open(image_path)\n",
        "    plt.figure(figsize=(12, 8))\n",
        "    plt.imshow(image)\n",
        "    plt.title(os.path.basename(image_path))\n",
        "    plt.axis('off')\n",
        "    plt.show()"
      ],
      "metadata": {
        "execution": {
          "iopub.status.busy": "2023-06-07T15:57:20.540048Z",
          "iopub.execute_input": "2023-06-07T15:57:20.540439Z",
          "iopub.status.idle": "2023-06-07T15:57:33.62779Z",
          "shell.execute_reply.started": "2023-06-07T15:57:20.540407Z",
          "shell.execute_reply": "2023-06-07T15:57:33.619718Z"
        },
        "trusted": true,
        "id": "oLvJDc6uboN3"
      },
      "execution_count": null,
      "outputs": []
    },
    {
      "cell_type": "markdown",
      "source": [
        "## Inference on Test Images"
      ],
      "metadata": {
        "id": "oNmuEzqJboN3"
      }
    },
    {
      "cell_type": "code",
      "source": [
        "results = model(os.path.join(ROOT_DIR, test_imgs_dir), conf=0.5, agnostic_nms=True, iou=0.5, save=True)"
      ],
      "metadata": {
        "scrolled": true,
        "execution": {
          "iopub.status.busy": "2023-06-07T15:57:40.506898Z",
          "iopub.execute_input": "2023-06-07T15:57:40.507289Z",
          "iopub.status.idle": "2023-06-07T15:57:59.379189Z",
          "shell.execute_reply.started": "2023-06-07T15:57:40.507255Z",
          "shell.execute_reply": "2023-06-07T15:57:59.377954Z"
        },
        "trusted": true,
        "id": "MzI0aTeYboN3"
      },
      "execution_count": null,
      "outputs": []
    },
    {
      "cell_type": "code",
      "source": [
        "# results = model(\n",
        "#     os.path.join(ROOT_DIR, test_imgs_dir, \"0_100_30_0_03307.jpg\"),\n",
        "#     conf=0.5, agnostic_nms=True, iou=0.5\n",
        "# )  # predict on an image\n",
        "# res_plotted = results[0].plot()\n",
        "# plt.imshow(res_plotted)\n",
        "# plt.show()"
      ],
      "metadata": {
        "id": "zXg2Ej4LboN4"
      },
      "execution_count": null,
      "outputs": []
    },
    {
      "cell_type": "code",
      "source": [
        "indices = list(range(len(results)))\n",
        "random_indices = random.sample(indices, 10)\n",
        "num_cols = 2\n",
        "num_rows = 5\n",
        "\n",
        "plt.figure(figsize=(12 * num_cols, 6 * num_rows))\n",
        "\n",
        "for i, idx in enumerate(random_indices):\n",
        "    image = results[i].plot()\n",
        "    plt.subplot(num_rows, num_cols, i+1)\n",
        "    plt.imshow(image)\n",
        "    plt.axis('off')\n",
        "plt.tight_layout()\n",
        "plt.show()"
      ],
      "metadata": {
        "execution": {
          "iopub.status.busy": "2023-06-07T15:58:16.589795Z",
          "iopub.execute_input": "2023-06-07T15:58:16.590579Z",
          "iopub.status.idle": "2023-06-07T15:58:19.128723Z",
          "shell.execute_reply.started": "2023-06-07T15:58:16.590538Z",
          "shell.execute_reply": "2023-06-07T15:58:19.127402Z"
        },
        "trusted": true,
        "id": "TSdvAD77boN4"
      },
      "execution_count": null,
      "outputs": []
    },
    {
      "cell_type": "markdown",
      "source": [
        "## Compare predictions with ground truth\n",
        "\n",
        "The ground truth labels will be shown in red box"
      ],
      "metadata": {
        "id": "ciANmSEJboN5"
      }
    },
    {
      "cell_type": "code",
      "source": [
        "ground_colors = [(255, 0, 0) for _ in range(len(classes))]"
      ],
      "metadata": {
        "execution": {
          "iopub.status.busy": "2023-06-07T15:59:46.461629Z",
          "iopub.execute_input": "2023-06-07T15:59:46.462036Z",
          "iopub.status.idle": "2023-06-07T15:59:46.473733Z",
          "shell.execute_reply.started": "2023-06-07T15:59:46.462006Z",
          "shell.execute_reply": "2023-06-07T15:59:46.472631Z"
        },
        "trusted": true,
        "id": "qkpQ-0EvboN5"
      },
      "execution_count": null,
      "outputs": []
    },
    {
      "cell_type": "code",
      "source": [
        "!ls runs/detect"
      ],
      "metadata": {
        "execution": {
          "iopub.status.busy": "2023-06-07T15:58:29.04097Z",
          "iopub.execute_input": "2023-06-07T15:58:29.041379Z",
          "iopub.status.idle": "2023-06-07T15:58:30.109642Z",
          "shell.execute_reply.started": "2023-06-07T15:58:29.04134Z",
          "shell.execute_reply": "2023-06-07T15:58:30.108248Z"
        },
        "trusted": true,
        "id": "iE0k5uzKboN5"
      },
      "execution_count": null,
      "outputs": []
    },
    {
      "cell_type": "code",
      "source": [
        "# Comparing a few testing images.\n",
        "plot(\n",
        "    image_path='runs/detect/yolov8m_v8_50e2',\n",
        "    label_path=os.path.join(ROOT_DIR, test_labels_dir),\n",
        "    num_samples=20,\n",
        "    classes=classes,\n",
        "    colors=ground_colors,\n",
        "    pos='below'\n",
        ")"
      ],
      "metadata": {
        "execution": {
          "iopub.status.busy": "2023-06-07T15:59:49.254193Z",
          "iopub.execute_input": "2023-06-07T15:59:49.254624Z",
          "iopub.status.idle": "2023-06-07T15:59:55.275433Z",
          "shell.execute_reply.started": "2023-06-07T15:59:49.254589Z",
          "shell.execute_reply": "2023-06-07T15:59:55.274405Z"
        },
        "trusted": true,
        "id": "Y2VPl2uWboN6"
      },
      "execution_count": null,
      "outputs": []
    },
    {
      "cell_type": "markdown",
      "source": [
        "## Export model"
      ],
      "metadata": {
        "id": "zfpMrnM3boN6"
      }
    },
    {
      "cell_type": "code",
      "source": [
        "success = model.export(format=\"onnx\")  # export the model to ONNX format\n",
        "success"
      ],
      "metadata": {
        "execution": {
          "iopub.status.busy": "2023-06-07T15:59:56.363228Z",
          "iopub.execute_input": "2023-06-07T15:59:56.364322Z",
          "iopub.status.idle": "2023-06-07T16:00:33.210471Z",
          "shell.execute_reply.started": "2023-06-07T15:59:56.364283Z",
          "shell.execute_reply": "2023-06-07T16:00:33.209575Z"
        },
        "trusted": true,
        "id": "i9a4xwljboN7"
      },
      "execution_count": null,
      "outputs": []
    },
    {
      "cell_type": "code",
      "source": [],
      "metadata": {
        "id": "dCgCqtYbboN8"
      },
      "execution_count": null,
      "outputs": []
    }
  ]
}